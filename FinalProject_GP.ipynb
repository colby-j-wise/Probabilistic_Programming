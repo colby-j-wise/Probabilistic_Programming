{
 "cells": [
  {
   "cell_type": "code",
   "execution_count": 1,
   "metadata": {},
   "outputs": [],
   "source": [
    "%matplotlib inline\n",
    "import edward as ed\n",
    "from edward.models import Normal\n",
    "import pandas as pd\n",
    "import tensorflow as tf\n",
    "import seaborn as sns\n",
    "import matplotlib.pyplot as plt\n",
    "import numpy as np\n",
    "\n",
    "# our functions\n",
    "import setup\n",
    "import data\n",
    "import visualizations\n",
    "import basis_functions\n",
    "import kernels\n",
    "pd.set_option('float_format', '{:f}'.format)\n",
    "setup.set_random_seeds(42)\n",
    "plt.style.use(\"seaborn-talk\")\n",
    "#plt.style.use(\"ggplot\")\n",
    "sns.set_context(\"talk\")"
   ]
  },
  {
   "cell_type": "code",
   "execution_count": 2,
   "metadata": {
    "collapsed": true
   },
   "outputs": [],
   "source": [
    "manhattan = data.get_borough_data(\"data/preprocessed.csv\", \"Manhattan\")\n",
    "ues_to_msh = data.get_neighborhood_to_neighborhood(\"Morningside Heights\", \"Upper East Side-Carnegie Hill\", manhattan)"
   ]
  },
  {
   "cell_type": "code",
   "execution_count": 3,
   "metadata": {
    "collapsed": true
   },
   "outputs": [],
   "source": [
    "indicator_cols = [\"pickup_latitude\", \"pickup_longitude\", \"dropoff_latitude\", \"dropoff_longitude\", \"manhattan_distance\", \"pickup_hour\", \"pickup_timestamp\"]\n",
    "y_cols = [\"trip_duration\"]\n",
    "\n",
    "x_train_raw, y_train_raw, x_test_raw, y_test_raw = data.train_test_split(ues_to_msh, 0.1, indicator_cols, y_cols)\n",
    "x_train = data.standardize_cols(x_train_raw)\n",
    "x_test = data.standardize_cols(x_test_raw)\n"
   ]
  },
  {
   "cell_type": "markdown",
   "metadata": {},
   "source": [
    "# Box's Loop - Iteration 3"
   ]
  },
  {
   "cell_type": "markdown",
   "metadata": {},
   "source": [
    "## Model: Gaussian Process\n",
    "\n",
    "Gaussian processes (GPs) are a supervised machine learning algorithm that measures the similarity between input data points, using a predefined kernel function, to predict the value of an unseen data point. We like to think about GPs as: defining an infinite distribution on functions over a continuous sapce where we observe some data points and want to assign probabilities to all the ways a line could be drawn through those points. The idea is that we hope these lines (or functions) we draw are similar with high probability to that true function which we will never know. \n",
    "\n",
    "Drawing a parallel to our polynomial basis GLM example: instead of choosing a polynomial basis function of degree four, with GPs using a kernel function we'd like to infer the true function from our data. Hence, GPs allow us retain the flexibility of capturing non-linearities in our data but accounting for \"infinite\" numbers of basis functions. \n",
    "\n",
    "### Interpretation of Kernel Function\n",
    "\n",
    "GPs are parameterized by a pre-determined *kernel function* which is positive-semidefinite covariance function that can capture signals in the data. Through these kernel functions we can explore *smoothness* and *periodicity* in our observed data. At the time of this project, Edward only included [RBF kernel](http://edwardlib.org/api/ed/rbf). We expanded upon this implementation and built a [Rational Quadratic](http://www.cs.toronto.edu/~duvenaud/cookbook/) and Exponential Sine Squared Kernel.\n",
    "\n",
    "In our analysis we will explore a few kernel functions but note there are many popular kernel functions, some more applicable than others and exploring them all was impossible. \n",
    "\n",
    "#### Radial Basis Kernel \n",
    "Most people are familiar with RBF given there common use in GPs and SVM in machine learning. The value of the RBF kernel decreases with distance and ranges between zero and one (i.e. x = x'). It's interrupted as a similiarity measure. Where,\n",
    "\n",
    "*Lengthscale* $l$ =  Determines the length of the 'wiggles' in your function.\n",
    "\n",
    "*Variance* $\\sigma^2$ =  The average distance of your function away from its mean.\n",
    "\n",
    "$$K_{RB} (x,x') = \\sigma^2 \\exp \\bigg[ \\frac{(x-x')^2}{2 l^2}\\bigg]  $$\n",
    "\n",
    "\n",
    "#### Rational Quadratic Kernel\n",
    "RQ kernels can be viewed as many RBF kernels with different lengthscales. GP priors with this kernel tend to vary smoothly across many lengthscales. \n",
    "\n",
    "*Alpha* $\\alpha^2$ =  The parameter $\\alpha$ determines the relative weighting of large vs small-scale variations.\n",
    "When $\\alpha \\to \\infty$, RQ == RBF\n",
    "\n",
    "$$K_{RQ} (x,x') = \\sigma^2 \\bigg[1 + \\frac{(x-x')^2}{2 \\alpha l^2} \\bigg]^{-\\alpha}  $$\n",
    "\n",
    "#### Exponential Sine Squared Kernel\n",
    "The ExpSineSquared kernel is typically used when modeling periodic functions or to model functions that repeat themselves. From our data visualizations we thought this may be applicable.\n",
    "\n",
    "*Lengthscale* $l$ =  Determines the length of the 'wiggles' in your function.\n",
    "\n",
    "*Periodicity* $p$ = Distnace between repititions of the function\n",
    "\n",
    "$$K_{ESS} (x,x') = \\sigma^2 \\exp\\bigg[ \\frac{- 2 \\sin^2(\\pi |x-x'|/ p )}{l^2}\\bigg]  $$\n",
    "\n",
    "### Model Overview\n",
    "\n",
    "A GP can be specified entirely by it's Kernel Function and mean (often assumed to 0): \n",
    "\n",
    "Where,\n",
    "\n",
    "**Prior:** $p(f) = GP(\\ 0,\\ K(x,x',\\theta)\\ )$ where $\\theta$ = *length_scale* $l_f$, sigma $\\sigma_f$\n",
    "\n",
    "**Likelihood:**  $p(y\\ |\\ f,\\ X,\\ \\theta) = GP(\\ f,\\ K(x,x', \\theta)\\ )$"
   ]
  },
  {
   "cell_type": "code",
   "execution_count": 48,
   "metadata": {},
   "outputs": [
    {
     "name": "stdout",
     "output_type": "stream",
     "text": [
      "Tensor(\"add_535:0\", shape=(1, 1), dtype=float64)\n"
     ]
    }
   ],
   "source": [
    "def gp_reg_invert_K(x, y, x_star, kernel, kernel_params=[]):\n",
    "    N = tf.cast(x.get_shape()[0], tf.int32).eval(session=tf.Session())\n",
    "    K = kernel(x, x, *kernel_params)\n",
    "    k_star = kernel(x_star, x, *kernel_params)\n",
    "    k_star_star = kernel(x_star, x_star, *kernel_params)\n",
    "    mu_n, sigma_n_sqr = tf.nn.moments(y, 1)\n",
    "    K_noisy = K + sigma_n_sqr * tf.eye(N, dtype=tf.float64)\n",
    "    K_noisy_inv = tf.matrix_inverse(K_noisy)\n",
    "    f_bar = tf.matmul(tf.matmul(k_star, K_noisy_inv), y)\n",
    "    tmp = tf.matmul(tf.matmul(k_star, K_noisy_inv), k_star, transpose_b=True)\n",
    "    v = k_star_star - tmp\n",
    "    \n",
    "    k_y = kernel(y, y, *kernel_params)\n",
    "    y_k_y = tf.matmul(tf.matmul(y, k_y, transpose_a=True), y)\n",
    "    first = - 0.5 * y_k_y\n",
    "    second = - 0.5 * tf.log(tf.norm(k_y))\n",
    "    third = tf.cast(- tf.cast(N, dtype=tf.float32) / 2 * tf.log(2 * np.pi), dtype=tf.float64)\n",
    "    logp = first + second + third\n",
    "    \n",
    "    return f_bar, v, logp\n",
    "\n",
    "y = tf.constant(y_train_raw.as_matrix())\n",
    "x = tf.constant(x_train)\n",
    "x_star = tf.constant(x_test)\n",
    "\n",
    "f, v, logp = gp_reg_invert_K(x, y, x_star, kernels.rbf)\n",
    "mean = np.reshape(f.eval(session=tf.Session()), -1)\n",
    "covariance = v.eval(session=tf.Session())\n",
    "sample = np.random.multivariate_normal(mean, covariance)\n",
    "\n",
   ]
  },
  {
   "cell_type": "code",
   "execution_count": 6,
   "metadata": {},
   "outputs": [
    {
     "data": {
      "image/png": "iVBORw0KGgoAAAANSUhEUgAAAoUAAAHCCAYAAACZnLOdAAAABHNCSVQICAgIfAhkiAAAAAlwSFlz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\nH6HUhYqsOIUQAAAAAElFTkSuQmCC\n",
      "text/plain": [
       "<matplotlib.figure.Figure at 0x117adee80>"
      ]
     },
     "metadata": {},
     "output_type": "display_data"
    }
   ],
   "source": [
    "def vis_gp(x, y, kernel, indicator_cols, num_samples, interp_pnts=100):\n",
    "    times = np.linspace(0, 24, interp_pnts)\n",
    "    x_vis = pd.DataFrame({i: [0.0] * interp_pnts for i in indicator_cols})\n",
    "    x_vis[\"pickup_hour\"] = times\n",
    "    x_vis[\"pickup_timestamp\"] = x_vis[\"pickup_hour\"].apply(lambda x: pd.to_datetime(x, unit=\"s\").hour)\n",
    "    x_vis_stdzd = data.standardize_cols(x_vis).fillna(0.0)\n",
    "    for i in range(num_samples - 1):\n",
    "        f, v, logp = gp_reg_invert_K(x, y, x_vis_stdzd, kernel)\n",
    "        mean = np.reshape(f.eval(session=tf.Session()), -1)\n",
    "        covariance = v.eval(session=tf.Session())\n",
    "        samples = np.random.multivariate_normal(mean, covariance)\n",
    "        plt.scatter(x=times, y=samples, marker=\".\", alpha=0.7, cmap=0.5)\n",
    "    plt.xlabel(\"Pickup Hour\")\n",
    "    plt.ylabel(\"Trip Duration\")\n",
    "    plt.show()\n",
    "    \n",
    "vis_gp(x, y, kernels.rbf, indicator_cols, 15, interp_pnts=10)"
   ]
  },
  {
   "cell_type": "code",
   "execution_count": null,
   "metadata": {},
   "outputs": [
    {
     "data": {
      "text/plain": [
       "5.6643283066516794"
      ]
     },
     "execution_count": 7,
     "metadata": {},
     "output_type": "execute_result"
    }
   ],
   "source": [
    "def gp_reg_invert_K(x, y, x_star, kernel):\n",
    "    N = tf.cast(x.get_shape()[0], tf.int32).eval(session=tf.Session())\n",
    "    K = kernel(x)\n",
    "    k_star = kernel(x_star, x)\n",
    "    k_star_star = kernel(x_star, x_star)\n",
    "    mu_n, sigma_n_sqr = tf.nn.moments(y, 1)\n",
    "    K_noisy = K + sigma_n_sqr * tf.eye(N, dtype=tf.float64)\n",
    "    K_noisy_inv = tf.matrix_inverse(K_noisy)\n",
    "    f_bar = tf.matmul(tf.matmul(k_star, K_noisy_inv), y)\n",
    "    tmp = tf.matmul(tf.matmul(k_star, K_noisy_inv), k_star, transpose_b=True)\n",
    "    v = k_star_star - tmp\n",
    "    \n",
    "    k_y = kernel(y)\n",
    "    y_k_y = tf.matmul(tf.matmul(y, k_y, transpose_a=True), y)\n",
    "    first = - 0.5 * y_k_y\n",
    "    second = - 0.5 * tf.log(tf.norm(k_y))\n",
    "    third = tf.cast(- tf.cast(N, dtype=tf.float32) / 2 * tf.log(2 * np.pi), dtype=tf.float64)\n",
    "    logp = first + second + third\n",
    "    \n",
    "    return f_bar, v, logp\n",
    "\n",
    "y = tf.constant(y_train_raw.as_matrix())\n",
    "x = tf.constant(x_train)\n",
    "x_star = tf.constant(x_test)\n",
    "\n",
    "f, v, logp = gp_reg_invert_K(x, y, x_star, kernels.RationalQuadratic)\n",
    "mean = np.reshape(f.eval(session=tf.Session()), -1)\n",
    "covariance = v.eval(session=tf.Session())\n",
    "sample = np.random.multivariate_normal(mean, covariance)\n",
    "\n",
    "err = np.abs(sample - y_test_raw.as_matrix())\n",
    "err.mean()"
   ]
  },
  {
   "cell_type": "code",
   "execution_count": null,
   "metadata": {
    "collapsed": true
   },
   "outputs": [],
   "source": [
    "def vis_gp(x, y, kernel, indicator_cols, num_samples, interp_pnts=100):\n",
    "    times = np.linspace(0, 24, interp_pnts)\n",
    "    x_vis = pd.DataFrame({i: [0.0] * interp_pnts for i in indicator_cols})\n",
    "    x_vis[\"pickup_hour\"] = times\n",
    "    x_vis[\"pickup_timestamp\"] = x_vis[\"pickup_hour\"].apply(lambda x: pd.to_datetime(x, unit=\"s\").hour)\n",
    "    x_vis_stdzd = data.standardize_cols(x_vis).fillna(0.0)\n",
    "    for i in range(num_samples - 1):\n",
    "        f, v, logp = gp_reg_invert_K(x, y, x_vis_stdzd, kernel)\n",
    "        mean = np.reshape(f.eval(session=tf.Session()), -1)\n",
    "        covariance = v.eval(session=tf.Session())\n",
    "        samples = np.random.multivariate_normal(mean, covariance)\n",
    "        plt.scatter(x=times, y=samples, marker=\".\", alpha=0.7, cmap=0.5)\n",
    "    plt.xlabel(\"Pickup Hour\")\n",
    "    plt.ylabel(\"Trip Duration\")\n",
    "    plt.show()\n",
    "    \n",
    "vis_gp(x, y, kernels.rbf, indicator_cols, 15, interp_pnts=10)"
   ]
  },
  {
   "cell_type": "code",
   "execution_count": null,
   "metadata": {
    "collapsed": true
   },
   "outputs": [],
   "source": [
    "def gp_reg_invert_K(x, y, x_star, kernel):\n",
    "    N = tf.cast(x.get_shape()[0], tf.int32).eval(session=tf.Session())\n",
    "    K = kernel(x)\n",
    "    k_star = kernel(x_star, x)\n",
    "    k_star_star = kernel(x_star, x_star)\n",
    "    mu_n, sigma_n_sqr = tf.nn.moments(y, 1)\n",
    "    K_noisy = K + sigma_n_sqr * tf.eye(N, dtype=tf.float64)\n",
    "    K_noisy_inv = tf.matrix_inverse(K_noisy)\n",
    "    f_bar = tf.matmul(tf.matmul(k_star, K_noisy_inv), y)\n",
    "    tmp = tf.matmul(tf.matmul(k_star, K_noisy_inv), k_star, transpose_b=True)\n",
    "    v = k_star_star - tmp\n",
    "    \n",
    "    k_y = kernel(y)\n",
    "    y_k_y = tf.matmul(tf.matmul(y, k_y, transpose_a=True), y)\n",
    "    first = - 0.5 * y_k_y\n",
    "    second = - 0.5 * tf.log(tf.norm(k_y))\n",
    "    third = tf.cast(- tf.cast(N, dtype=tf.float32) / 2 * tf.log(2 * np.pi), dtype=tf.float64)\n",
    "    logp = first + second + third\n",
    "    \n",
    "    return f_bar, v, logp\n",
    "\n",
    "y = tf.constant(y_train_raw.as_matrix())\n",
    "x = tf.constant(x_train)\n",
    "x_star = tf.constant(x_test)\n",
    "\n",
    "f, v, logp = gp_reg_invert_K(x, y, x_star, kernels.RationalQuadratic)\n",
    "mean = np.reshape(f.eval(session=tf.Session()), -1)\n",
    "covariance = v.eval(session=tf.Session())\n",
    "sample = np.random.multivariate_normal(mean, covariance)\n",
    "\n",
    "err = np.abs(sample - y_test_raw.as_matrix())\n",
    "err.mean()"
   ]
  },
  {
   "cell_type": "code",
   "execution_count": null,
   "metadata": {
    "collapsed": true
   },
   "outputs": [],
   "source": [
    "def vis_gp(x, y, kernel, indicator_cols, num_samples, interp_pnts=100):\n",
    "    times = np.linspace(0, 24, interp_pnts)\n",
    "    x_vis = pd.DataFrame({i: [0.0] * interp_pnts for i in indicator_cols})\n",
    "    x_vis[\"pickup_hour\"] = times\n",
    "    x_vis[\"pickup_timestamp\"] = x_vis[\"pickup_hour\"].apply(lambda x: pd.to_datetime(x, unit=\"s\").hour)\n",
    "    x_vis_stdzd = data.standardize_cols(x_vis).fillna(0.0)\n",
    "    for i in range(num_samples - 1):\n",
    "        f, v, logp = gp_reg_invert_K(x, y, x_vis_stdzd, kernel)\n",
    "        mean = np.reshape(f.eval(session=tf.Session()), -1)\n",
    "        covariance = v.eval(session=tf.Session())\n",
    "        samples = np.random.multivariate_normal(mean, covariance)\n",
    "        plt.scatter(x=times, y=samples, marker=\".\", alpha=0.7, cmap=0.5)\n",
    "    plt.xlabel(\"Pickup Hour\")\n",
    "    plt.ylabel(\"Trip Duration\")\n",
    "    plt.show()\n",
    "    \n",
    "vis_gp(x, y, kernels.rbf, indicator_cols, 15, interp_pnts=10)"
   ]
  }
 ],
 "metadata": {
  "anaconda-cloud": {},
  "kernelspec": {
   "display_name": "pp",
   "language": "python",
   "name": "pp"
  },
  "language_info": {
   "codemirror_mode": {
    "name": "ipython",
    "version": 3
   },
   "file_extension": ".py",
   "mimetype": "text/x-python",
   "name": "python",
   "nbconvert_exporter": "python",
   "pygments_lexer": "ipython3",
   "version": "3.6.2"
  }
 },
 "nbformat": 4,
 "nbformat_minor": 1
}
