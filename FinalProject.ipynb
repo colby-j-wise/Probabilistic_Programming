{
 "cells": [
  {
   "cell_type": "markdown",
   "metadata": {},
   "source": [
    "# Taxi Trips and Traffic\n",
    "\n",
    "Where most models use real-time data from users to predict arrival\n",
    "times at any given moment, we believe they could be improved by including a predictive\n",
    "element. Our intent is to use the NYC Taxi and Limousine Commission's yellow and green cab data set to estimate density of pickup and dropoffs at any given place and time. We will then use the density as a proxy for traffic to estimate the time it takes to arrive at a destination."
   ]
  },
  {
   "cell_type": "code",
   "execution_count": 82,
   "metadata": {
    "collapsed": true
   },
   "outputs": [],
   "source": [
    "%matplotlib inline\n",
    "import edward as ed\n",
    "import pandas as pd\n",
    "import tensorflow as tf\n",
    "import seaborn as sns\n",
    "import matplotlib.pyplot as plt\n",
    "import numpy as np\n",
    "from utils.setup import set_random_seeds\n",
    "import data\n",
    "# set_random_seeds(42)\n",
    "plt.style.use(\"seaborn-talk\")\n",
    "sns.set_context(\"talk\")"
   ]
  },
  {
   "cell_type": "markdown",
   "metadata": {},
   "source": [
    "## Data\n",
    "\n",
    "Use the\n",
    "[2015 NYC Yellow Cab Dataset](http://www.nyc.gov/html/tlc/html/about/trip_record_data.shtml),\n",
    "which consists of pickup and dropoff coordinates for trips, along \n",
    "with metadata like cost, distance, and number of passengers. For the time being, we are only interested in trips that occurr entirely within the range from 1st street to 59th street, and 12th ave to 1st ave, during the month of april. This data can be easily visualized as 2d plot."
   ]
  },
  {
   "cell_type": "markdown",
   "metadata": {
    "collapsed": true
   },
   "source": [
    "```SQL\n",
    "SELECT\n",
    "  *\n",
    "FROM\n",
    "  [bigquery-public-data:new_york.tlc_yellow_trips_2016]\n",
    "WHERE\n",
    "  (pickup_longitude > -74.0124053955\n",
    "    AND pickup_longitude < -73.9673309326)\n",
    "  AND (pickup_latitude > 40.7186431885\n",
    "    AND pickup_latitude < 40.7735137939)\n",
    "  AND (dropoff_longitude > -74.0124053955\n",
    "    AND dropoff_longitude < -73.9673309326)\n",
    "  AND (dropoff_latitude > 40.7186431885\n",
    "    AND dropoff_latitude < 40.7735137939)\n",
    "  AND TIMESTAMP_TO_MSEC(pickup_datetime) > 1459483200000\n",
    "  AND TIMESTAMP_TO_MSEC(dropoff_datetime) < 1462075200000\n",
    "  order by pickup_datetime desc\n",
    "LIMIT\n",
    "  10000\n",
    "```"
   ]
  },
  {
   "cell_type": "code",
   "execution_count": 56,
   "metadata": {},
   "outputs": [
    {
     "data": {
      "image/png": "[encoded data removed]",
      "text/plain": [
       "<matplotlib.figure.Figure at 0x7f0edc27df98>"
      ]
     },
     "metadata": {},
     "output_type": "display_data"
    }
   ],
   "source": [
    "dataset = data.get_data('datasets/results-20171101-101319.csv', name=\"raw_coordinates\")\n",
    "with tf.Session() as sess:\n",
    "    rotated_data = sess.run(data.rotate(dataset, np.pi * 0.0))\n",
    "H = data.bin_2d(rotated_data.T, [60, 12], pad_longitude=0.0, pad_latitude=0.0)\n",
    "ax = sns.heatmap(H[0])\n",
    "ax.invert_yaxis()\n",
    "# sns.jointplot(rotated_data.T[:, 0], rotated_data.T[:, 1])"
   ]
  },
  {
   "cell_type": "markdown",
   "metadata": {},
   "source": [
    "Now lets look at a single bin, over the course of several hours throughout the day. Specifically, lets look at the busy point around 30th street and Ninth Avenue."
   ]
  },
  {
   "cell_type": "code",
   "execution_count": 80,
   "metadata": {},
   "outputs": [
    {
     "name": "stdout",
     "output_type": "stream",
     "text": [
      "The busiest Intersection is 11 ave and 23 street with 333.0 pickups or dropoffs\n"
     ]
    }
   ],
   "source": [
    "num_avenues = 12\n",
    "max_cars = H[0].max()\n",
    "street = H[0].argmax() // num_avenues\n",
    "ave = H[0][street].argmax()\n",
    "print(\"The busiest Intersection is\", num_avenues - ave, \"ave and\", street, \"street with\", max_cars, \"pickups or dropoffs\")"
   ]
  },
  {
   "cell_type": "code",
   "execution_count": 81,
   "metadata": {},
   "outputs": [
    {
     "name": "stdout",
     "output_type": "stream",
     "text": [
      "The coordinates surrounding the busiest intersection are\n",
      "[-74.00848388671875, -74.00474548339844], [40.73967742919922, 40.74059295654297]\n",
      "331\n"
     ]
    }
   ],
   "source": [
    "print(\"The coordinates surrounding the busiest intersection are\")\n",
    "ave_min_long = H[2][ave]\n",
    "ave_max_long = H[2][ave + 1]\n",
    "street_min_lat = H[1][street]\n",
    "street_max_lat = H[1][street + 1]\n",
    "print(f\"[{ave_min_long}, {ave_max_long}], [{street_min_lat}, {street_max_lat}]\")\n",
    "trips_in_busy_point = []\n",
    "count = 0\n",
    "for i in rotated_data.T:\n",
    "    longitude = i[0]\n",
    "    latitude = i[1]\n",
    "    if longitude > ave_min_long and longitude < ave_max_long and latitude > street_min_lat and latitude < street_max_lat:\n",
    "            trips_in_busy_point.append(i)"
   ]
  },
  {
   "cell_type": "markdown",
   "metadata": {},
   "source": [
    "## Model"
   ]
  },
  {
   "cell_type": "code",
   "execution_count": 4,
   "metadata": {
    "collapsed": true
   },
   "outputs": [],
   "source": []
  },
  {
   "cell_type": "markdown",
   "metadata": {},
   "source": [
    "Here, we define a placeholder `X`. During inference, we pass in\n",
    "the value for this placeholder according to data."
   ]
  },
  {
   "cell_type": "markdown",
   "metadata": {},
   "source": [
    "## Inference\n",
    "\n",
    "Perform variational inference.\n",
    "Define the variational model to be a fully factorized normal."
   ]
  },
  {
   "cell_type": "code",
   "execution_count": 5,
   "metadata": {
    "collapsed": true
   },
   "outputs": [],
   "source": [
    "qf = Normal(loc=tf.Variable(tf.random_normal([N])),\n",
    "            scale=tf.nn.softplus(tf.Variable(tf.random_normal([N]))))"
   ]
  },
  {
   "cell_type": "markdown",
   "metadata": {},
   "source": [
    "Run variational inference for `500` iterations."
   ]
  },
  {
   "cell_type": "code",
   "execution_count": 6,
   "metadata": {},
   "outputs": [
    {
     "name": "stdout",
     "output_type": "stream",
     "text": [
      "5000/5000 [100%] ██████████████████████████████ Elapsed: 9s | Loss: 82.755\n"
     ]
    }
   ],
   "source": [
    "inference = ed.KLqp({f: qf}, data={X: X_train, y: y_train})\n",
    "inference.run(n_iter=5000)"
   ]
  },
  {
   "cell_type": "markdown",
   "metadata": {},
   "source": [
    "In this case\n",
    "`KLqp` defaults to minimizing the\n",
    "$\\text{KL}(q\\|p)$ divergence measure using the reparameterization\n",
    "gradient.\n",
    "For more details on inference, see the [$\\text{KL}(q\\|p)$ tutorial](/tutorials/klqp).\n",
    "(This example happens to be slow because evaluating and inverting full\n",
    "covariances in Gaussian processes happens to be slow.)"
   ]
  }
 ],
 "metadata": {
  "anaconda-cloud": {},
  "kernelspec": {
   "display_name": "Python 3",
   "language": "python",
   "name": "python3"
  },
  "language_info": {
   "codemirror_mode": {
    "name": "ipython",
    "version": 3
   },
   "file_extension": ".py",
   "mimetype": "text/x-python",
   "name": "python",
   "nbconvert_exporter": "python",
   "pygments_lexer": "ipython3",
   "version": "3.6.3"
  }
 },
 "nbformat": 4,
 "nbformat_minor": 1
}
