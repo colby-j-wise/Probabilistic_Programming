{
 "cells": [
  {
   "cell_type": "markdown",
   "metadata": {},
   "source": [
    "# Taxi Trips and Traffic\n",
    "\n",
    "Where most models use real-time data from users to predict arrival\n",
    "times at any given moment, we believe they could be improved by including a predictive\n",
    "element. Our intent is to use the NYC Taxi and Limousine Commission's yellow and green cab data set to estimate density of pickup and dropoffs at any given place and time. We will then use the density as a proxy for traffic to estimate the time it takes to arrive at a destination."
   ]
  },
  {
   "cell_type": "code",
   "execution_count": 2,
   "metadata": {
    "collapsed": true
   },
   "outputs": [],
   "source": [
    "%matplotlib inline\n",
    "import edward as ed\n",
    "from edward.models import Normal\n",
    "import pandas as pd\n",
    "pd.set_option('float_format', '{:f}'.format)\n",
    "import tensorflow as tf\n",
    "import seaborn as sns\n",
    "import matplotlib.pyplot as plt\n",
    "import numpy as np\n",
    "\n",
    "# our functions\n",
    "import setup\n",
    "import data\n",
    "import visualizations\n",
    "import basis_functions\n",
    "setup.set_random_seeds(42)\n",
    "plt.style.use(\"seaborn-talk\")\n",
    "sns.set_context(\"talk\")"
   ]
  },
  {
   "cell_type": "markdown",
   "metadata": {},
   "source": [
    "## Data\n",
    "\n",
    "We used the\n",
    "[2015 NYC Yellow Cab Dataset](http://www.nyc.gov/html/tlc/html/about/trip_record_data.shtml),\n",
    "which consists of pickup and dropoff coordinates for trips, along \n",
    "with metadata like cost, distance, and number of passengers."
   ]
  },
  {
   "cell_type": "code",
   "execution_count": 3,
   "metadata": {
    "collapsed": true
   },
   "outputs": [],
   "source": [
    "manhattan = data.get_borough_data(\"data/preprocessed.csv\", \"Manhattan\")"
   ]
  },
  {
   "cell_type": "code",
   "execution_count": 5,
   "metadata": {
    "collapsed": true
   },
   "outputs": [],
   "source": [
    "ues_to_msh = data.get_neighborhood_to_neighborhood(\"Morningside Heights\", \"Upper East Side-Carnegie Hill\", manhattan)"
   ]
  },
  {
   "cell_type": "code",
   "execution_count": 6,
   "metadata": {},
   "outputs": [
    {
     "data": {
      "text/plain": [
       "<seaborn.axisgrid.FacetGrid at 0x13e98c898>"
      ]
     },
     "execution_count": 6,
     "metadata": {},
     "output_type": "execute_result"
    },
    {
     "data": {
      "image/png": "[encoded data removed]",
      "text/plain": [
       "<matplotlib.figure.Figure at 0x13e98c390>"
      ]
     },
     "metadata": {},
     "output_type": "display_data"
    }
   ],
   "source": [
    "indicator_cols = [\"pickup_latitude\",\n",
    "                  \"pickup_longitude\",\n",
    "                  \"dropoff_latitude\",\n",
    "                  \"dropoff_longitude\",\n",
    "                  \"manhattan_distance\",\n",
    "                  \"pickup_hour\",\n",
    "                  \"pickup_timestamp\"]\n",
    "\n",
    "y_cols = [\"trip_duration\"]\n",
    "\n",
    "x_train, y_train, x_test, y_test = data.train_test_split(ues_to_msh,\n",
    "                                                         0.2,\n",
    "                                                         indicator_cols,\n",
    "                                                         y_cols)\n",
    "x_train_standardized = data.standardize_cols(x_train)\n",
    "x_test_standardized = data.standardize_cols(x_test)\n",
    "\n",
    "x_train_stan_poly = basis_functions.polynomial(x_train_standardized, degree = 3)\n",
    "x_test_stan_poly = basis_functions.polynomial(x_test_standardized, degree = 3)\n",
    "\n",
    "visualizations.visualize_by_borough(ues_to_msh)"
   ]
  },
  {
   "cell_type": "markdown",
   "metadata": {},
   "source": [
    "# Model"
   ]
  },
  {
   "cell_type": "code",
   "execution_count": 7,
   "metadata": {},
   "outputs": [
    {
     "name": "stdout",
     "output_type": "stream",
     "text": [
      "1000/1000 [100%] ██████████████████████████████ Elapsed: 7s | Loss: 2182.073\n"
     ]
    }
   ],
   "source": [
    "def model(x_train, y_train):\n",
    "    \n",
    "    N, D = x_train.shape\n",
    "    X = tf.placeholder(tf.float32, [N, D])\n",
    "    w = ed.models.Normal(loc=tf.zeros(D), scale=tf.ones(D))\n",
    "    b = ed.models.Normal(loc=[0.0], scale=1.0)\n",
    "    alpha = ed.models.Normal(loc=[0.0], scale=1.0)\n",
    "    Y = ed.models.Normal(loc=ed.dot(X, w) + b, scale=alpha)\n",
    "\n",
    "    qalpha = ed.models.TransformedDistribution(\n",
    "        distribution=ed.models.NormalWithSoftplusScale(tf.Variable(tf.zeros([1])),\n",
    "                                                       tf.Variable(tf.zeros([1]))),\n",
    "        bijector=tf.contrib.distributions.bijectors.Exp())\n",
    "\n",
    "    qw = ed.models.NormalWithSoftplusScale(loc=tf.Variable(tf.random_normal([D])),\n",
    "                                           scale=tf.Variable(tf.random_normal([D])))\n",
    "\n",
    "    qb = ed.models.NormalWithSoftplusScale(loc=tf.Variable(tf.random_normal([1])),\n",
    "                                           scale=tf.Variable(tf.random_normal([1])))\n",
    "\n",
    "    inference = ed.KLqp({w: qw, b: qb, alpha: qalpha},\n",
    "                        data={X: x_train.as_matrix(),\n",
    "                              Y: np.reshape(y_train.as_matrix(), (y_train.shape[0]))})\n",
    "    inference.run(n_iter=1000)\n",
    "    \n",
    "    return qw, qb, qalpha\n",
    "qw, qb, qalpha = model(x_train_stan_poly, y_train)"
   ]
  },
  {
   "cell_type": "markdown",
   "metadata": {},
   "source": [
    "# Critique"
   ]
  },
  {
   "cell_type": "code",
   "execution_count": 8,
   "metadata": {},
   "outputs": [
    {
     "name": "stdout",
     "output_type": "stream",
     "text": [
      "4.75938\n"
     ]
    }
   ],
   "source": [
    "def critique(qw, qb, qalpha, x_test, y_test):\n",
    "    N, D = x_test.shape\n",
    "    X = tf.placeholder(tf.float32, [N, D])\n",
    "    y_post = ed.models.Normal(loc=ed.dot(X, qw) + qb, scale=qalpha)\n",
    "    print(ed.evaluate(\"mean_absolute_error\",\n",
    "                data={X: x_test.as_matrix(),\n",
    "                      y_post: np.reshape(y_test.as_matrix(), (y_test.shape[0]))}))\n",
    "critique(qw, qb, qalpha, x_test_stan_poly, y_test)"
   ]
  },
  {
   "cell_type": "code",
   "execution_count": 121,
   "metadata": {},
   "outputs": [
    {
     "name": "stdout",
     "output_type": "stream",
     "text": [
      "1000/1000 [100%] ██████████████████████████████ Elapsed: 7s | Loss: 2005.164\n"
     ]
    }
   ],
   "source": [
    "N, D = x_train_stan_poly.shape\n",
    "X = tf.placeholder(tf.float32, [N, D])\n",
    "w = ed.models.Normal(loc=tf.zeros(D), scale=tf.ones(D))\n",
    "b = ed.models.Normal(loc=[0.0], scale=1.0)\n",
    "alpha = ed.models.Normal(loc=[0.0], scale=1.0)\n",
    "Y = ed.models.Normal(loc=ed.dot(X, w) + b, scale=alpha)\n",
    "\n",
    "qalpha = ed.models.TransformedDistribution(\n",
    "    distribution=ed.models.NormalWithSoftplusScale(tf.Variable(tf.zeros([1])),\n",
    "                                                   tf.Variable(tf.zeros([1]))),\n",
    "    bijector=tf.contrib.distributions.bijectors.Exp())\n",
    "\n",
    "qw = ed.models.NormalWithSoftplusScale(loc=tf.Variable(tf.random_normal([D])),\n",
    "                                       scale=tf.Variable(tf.random_normal([D])))\n",
    "\n",
    "qb = ed.models.NormalWithSoftplusScale(loc=tf.Variable(tf.random_normal([1])),\n",
    "                                       scale=tf.Variable(tf.random_normal([1])))\n",
    "\n",
    "inference = ed.KLqp({w: qw, b: qb, alpha: qalpha},\n",
    "                    data={X: x_train_stan_poly.as_matrix(),\n",
    "                          Y: np.reshape(y_train.as_matrix(), (y_train.shape[0]))})\n",
    "inference.run(n_iter=1000)"
   ]
  },
  {
   "cell_type": "code",
   "execution_count": 13,
   "metadata": {},
   "outputs": [
    {
     "name": "stdout",
     "output_type": "stream",
     "text": [
      "4.92604\n"
     ]
    }
   ],
   "source": [
    "# N, D = x_test_stan_poly.shape\n",
    "# X = tf.placeholder(tf.float32, [N, D])\n",
    "# y_post = ed.models.Normal(loc=ed.dot(X, qw) + qb, scale=qalpha)\n",
    "# print(ed.evaluate(\"mean_absolute_error\",\n",
    "#             data={X: x_test_stan_poly.as_matrix(),\n",
    "#                   y_post: np.reshape(y_test.as_matrix(), (y_test.shape[0]))}))"
   ]
  },
  {
   "cell_type": "code",
   "execution_count": null,
   "metadata": {},
   "outputs": [],
   "source": [
    "\"\"\" Not correct i'm pretty sure since we have >2 dimensions it shouldn't be possible \n",
    "    to graph the mean of cols along >2 dimensions with only a 2 dimensional plot\n",
    "\"\"\"\n",
    "from edward.criticisms import ppc_density_plot\n",
    "\n",
    "x_post = ed.copy(X, {w: qw, b: qb, alpha: qalpha})\n",
    "x_rep, x = ed.ppc(lambda xs, zs: tf.reduce_mean(tf.cast(xs[x_post], tf.float32),0),\n",
    "                  data={x_post: x_train_stan_poly})\n",
    "\n",
    "\n",
    "#ed.ppc(lambda xs, zs: tf.reduce_mean(xs[x_post]), data={x_post: x_train})\n",
    "\n",
    "AA = (np.array(x_rep)).T\n",
    "ppc_density_plot(x[0],x_rep)\n",
    "plt.show()\n",
    "#y[0]"
   ]
  },
  {
   "cell_type": "code",
   "execution_count": 183,
   "metadata": {},
   "outputs": [
    {
     "data": {
      "image/png": "[encoded data removed]",
      "text/plain": [
       "<matplotlib.figure.Figure at 0x11d10bc50>"
      ]
     },
     "metadata": {},
     "output_type": "display_data"
    }
   ],
   "source": [
    "y_post = ed.copy(Y)\n",
    "y_rep, y = ed.ppc(lambda xs, zs: tf.reduce_max(xs[x_post],0),\n",
    "             data={y_post: np.reshape(y_train.as_matrix(), (y_train.shape[0])), \n",
    "                   x_post: x_train_stan_poly.as_matrix()},\n",
    "             latent_vars={w: qw, b: qb, alpha: qalpha})\n",
    "\n",
    "# AA = (np.array(y_rep)).T\n",
    "ppc_density_plot(y[0],y_rep)\n",
    "plt.show()\n"
   ]
  },
  {
   "cell_type": "code",
   "execution_count": 177,
   "metadata": {},
   "outputs": [
    {
     "name": "stdout",
     "output_type": "stream",
     "text": [
      "mean of y_ppc: 15.4511545293\n",
      "max of y_ppc: 41.3666666667\n",
      "min of y_ppc: 4.83333333333\n"
     ]
    }
   ],
   "source": [
    "_mean = tf.reduce_mean(y_train.as_matrix()).eval()\n",
    "_max = tf.reduce_max(y_train.as_matrix()).eval()\n",
    "_min = tf.reduce_min(y_train.as_matrix()).eval()\n",
    "\n",
    "print(\"mean of y_ppc:\", _mean)\n",
    "print(\"max of y_ppc:\", _max)\n",
    "print(\"min of y_ppc:\", _min)"
   ]
  },
  {
   "cell_type": "code",
   "execution_count": null,
   "metadata": {},
   "outputs": [],
   "source": []
  },
  {
   "cell_type": "markdown",
   "metadata": {},
   "source": [
    "# Visualize the model"
   ]
  },
  {
   "cell_type": "code",
   "execution_count": 60,
   "metadata": {},
   "outputs": [
    {
     "ename": "ValueError",
     "evalue": "shapes (140,7) and (21,1) not aligned: 7 (dim 1) != 21 (dim 0)",
     "output_type": "error",
     "traceback": [
      "\u001b[0;31m---------------------------------------------------------------------------\u001b[0m",
      "\u001b[0;31mValueError\u001b[0m                                Traceback (most recent call last)",
      "\u001b[0;32m<ipython-input-60-45d76e0652e9>\u001b[0m in \u001b[0;36m<module>\u001b[0;34m()\u001b[0m\n\u001b[1;32m      2\u001b[0m \u001b[0mb\u001b[0m \u001b[0;34m=\u001b[0m \u001b[0mqb\u001b[0m\u001b[0;34m.\u001b[0m\u001b[0msample\u001b[0m\u001b[0;34m(\u001b[0m\u001b[0;36m1\u001b[0m\u001b[0;34m)\u001b[0m\u001b[0;34m.\u001b[0m\u001b[0meval\u001b[0m\u001b[0;34m(\u001b[0m\u001b[0;34m)\u001b[0m\u001b[0;34m\u001b[0m\u001b[0m\n\u001b[1;32m      3\u001b[0m \u001b[0malpha\u001b[0m \u001b[0;34m=\u001b[0m \u001b[0mqalpha\u001b[0m\u001b[0;34m.\u001b[0m\u001b[0msample\u001b[0m\u001b[0;34m(\u001b[0m\u001b[0;36m1\u001b[0m\u001b[0;34m)\u001b[0m\u001b[0;34m.\u001b[0m\u001b[0meval\u001b[0m\u001b[0;34m(\u001b[0m\u001b[0;34m)\u001b[0m\u001b[0;34m\u001b[0m\u001b[0m\n\u001b[0;32m----> 4\u001b[0;31m \u001b[0my_pred\u001b[0m \u001b[0;34m=\u001b[0m \u001b[0mnp\u001b[0m\u001b[0;34m.\u001b[0m\u001b[0mdot\u001b[0m\u001b[0;34m(\u001b[0m\u001b[0mx_test\u001b[0m\u001b[0;34m.\u001b[0m\u001b[0mas_matrix\u001b[0m\u001b[0;34m(\u001b[0m\u001b[0;34m)\u001b[0m\u001b[0;34m,\u001b[0m \u001b[0mw\u001b[0m\u001b[0;34m.\u001b[0m\u001b[0mT\u001b[0m\u001b[0;34m)\u001b[0m \u001b[0;34m+\u001b[0m \u001b[0malpha\u001b[0m\u001b[0;34m\u001b[0m\u001b[0m\n\u001b[0m\u001b[1;32m      5\u001b[0m \u001b[0mplt\u001b[0m\u001b[0;34m.\u001b[0m\u001b[0mscatter\u001b[0m\u001b[0;34m(\u001b[0m\u001b[0mx_test\u001b[0m\u001b[0;34m[\u001b[0m\u001b[0;34m\"pickup_timestamp\"\u001b[0m\u001b[0;34m]\u001b[0m\u001b[0;34m,\u001b[0m \u001b[0my_pred\u001b[0m\u001b[0;34m)\u001b[0m\u001b[0;34m\u001b[0m\u001b[0m\n\u001b[1;32m      6\u001b[0m \u001b[0mplt\u001b[0m\u001b[0;34m.\u001b[0m\u001b[0mscatter\u001b[0m\u001b[0;34m(\u001b[0m\u001b[0mx_test\u001b[0m\u001b[0;34m[\u001b[0m\u001b[0;34m\"pickup_timestamp\"\u001b[0m\u001b[0;34m]\u001b[0m\u001b[0;34m,\u001b[0m \u001b[0my_test_min\u001b[0m\u001b[0;34m)\u001b[0m\u001b[0;34m\u001b[0m\u001b[0m\n",
      "\u001b[0;31mValueError\u001b[0m: shapes (140,7) and (21,1) not aligned: 7 (dim 1) != 21 (dim 0)"
     ]
    }
   ],
   "source": [
    "w = qw.sample(1).eval()\n",
    "b = qb.sample(1).eval()\n",
    "alpha = qalpha.sample(1).eval()\n",
    "y_pred = np.dot(x_test.as_matrix(), w.T) + alpha\n",
    "plt.scatter(x_test[\"pickup_timestamp\"], y_pred)\n",
    "plt.scatter(x_test[\"pickup_timestamp\"], y_test_min)\n",
    "plt.show()"
   ]
  },
  {
   "cell_type": "markdown",
   "metadata": {},
   "source": [
    "### Results of a Linear Model\n",
    "On average we have an absolute error of about 5:30 for each trip and the overall fit is not especially good."
   ]
  },
  {
   "cell_type": "markdown",
   "metadata": {},
   "source": [
    "# Gaussian Process\n",
    "\n",
    "Lets try a different route. "
   ]
  },
  {
   "cell_type": "code",
   "execution_count": 62,
   "metadata": {
    "collapsed": true
   },
   "outputs": [],
   "source": [
    "harlem_to_bat_park = data.get_neighborhood_to_neighborhood(\"East Harlem North\", \"Battery Park City-Lower Manhattan\", manhattan)\n",
    "bat_park_to_harlem = data.get_neighborhood_to_neighborhood(\"Battery Park City-Lower Manhattan\", \"East Harlem North\", manhattan)\n",
    "harlem_bat_park = pd.concat([harlem_to_bat_park, bat_park_to_harlem])"
   ]
  },
  {
   "cell_type": "code",
   "execution_count": 63,
   "metadata": {},
   "outputs": [
    {
     "data": {
      "image/png": "[encoded data removed]",
      "text/plain": [
       "<matplotlib.figure.Figure at 0x11d1c3828>"
      ]
     },
     "metadata": {},
     "output_type": "display_data"
    },
    {
     "data": {
      "image/png": "[encoded data removed]",
      "text/plain": [
       "<matplotlib.figure.Figure at 0x130794f98>"
      ]
     },
     "metadata": {},
     "output_type": "display_data"
    },
    {
     "data": {
      "image/png": "[encoded data removed]",
      "text/plain": [
       "<matplotlib.figure.Figure at 0x11c064da0>"
      ]
     },
     "metadata": {},
     "output_type": "display_data"
    }
   ],
   "source": [
    "indicator_cols = [\"pickup_latitude\",\n",
    "                  \"pickup_longitude\",\n",
    "                  \"dropoff_latitude\",\n",
    "                  \"dropoff_longitude\",\n",
    "                  \"manhattan_distance\",\n",
    "                  \"pickup_hour\",\n",
    "                  \"pickup_timestamp\"]\n",
    "\n",
    "\n",
    "y_cols = [\"trip_duration\"]\n",
    "\n",
    "x_train, y_train, x_test, y_test = data.train_test_split(harlem_bat_park,\n",
    "                                                         0.1,\n",
    "                                                         indicator_cols,\n",
    "                                                         y_cols)\n",
    "x_train_standardized = data.standardize_cols(x_train)\n",
    "x_test_standardized = data.standardize_cols(x_test)\n",
    "\n",
    "visualizations.visualize_by_borough(harlem_bat_park)\n",
    "sns.lmplot(x=\"manhattan_distance\", y=\"trip_duration\", data=harlem_bat_park)\n",
    "sns.lmplot(x=\"pickup_hour\", y=\"trip_duration\", data=harlem_bat_park)\n",
    "plt.show()"
   ]
  },
  {
   "cell_type": "code",
   "execution_count": 80,
   "metadata": {},
   "outputs": [
    {
     "name": "stdout",
     "output_type": "stream",
     "text": [
      "actual [[  3.60135031]\n",
      " [ 22.44616508]\n",
      " [ 18.72620392]]\n",
      "expected     trip_duration\n",
      "3       19.733333\n",
      "27      22.166667\n",
      "21      18.033333\n",
      "error     trip_duration\n",
      "3       16.131983\n",
      "27       0.279498\n",
      "21       0.692871\n",
      "mean abs error trip_duration   5.701451\n",
      "dtype: float64\n"
     ]
    }
   ],
   "source": [
    "tf.reset_default_graph()\n",
    "n_test, d_test = x_test_standardized.shape\n",
    "y_n, y_d = y_train.shape\n",
    "N, D = x_train_standardized.shape\n",
    "\n",
    "x_test_node = tf.placeholder(tf.float32, [n_test, d_test])\n",
    "x_node = tf.placeholder(tf.float32, [N, D])\n",
    "y_node = tf.placeholder(tf.float32, [y_n, y_d])\n",
    "\n",
    "mu, var = tf.nn.moments(y_node, 1)\n",
    "\n",
    "v_i = tf.eye(N) * var\n",
    "#.9996\n",
    "k = ed.rbf(x_node, lengthscale=.9996, variance=1.0) + v_i\n",
    "# k = ed.rbf(x_node, lengthscale=1.0) + v_i\n",
    "k_star = ed.rbf(x_test_node, x_node)\n",
    "\n",
    "k_star_star = ed.rbf(x_test_node)\n",
    "\n",
    "k_inv = tf.matrix_inverse(k)\n",
    "\n",
    "mu_star = tf.matmul(tf.matmul(k_star, k_inv), y_node)\n",
    "\n",
    "tmp1 = tf.matmul(k_star, k_inv)\n",
    "\n",
    "tmp2 = tf.matmul(tmp1, k_star, transpose_b=True)\n",
    "\n",
    "v_star = k_star_star - tmp2\n",
    "\n",
    "L = tf.cholesky(tf.abs(v_star))\n",
    "\n",
    "p_y = ed.models.MultivariateNormalTriL(loc=mu_star, scale_tril=tf.abs(L))\n",
    "\n",
    "expected = mu_star.eval(session=tf.Session(), feed_dict={\n",
    "    x_node: x_train_standardized.as_matrix(),\n",
    "    y_node: y_train.as_matrix(),\n",
    "    x_test_node: x_test_standardized.as_matrix()\n",
    "})\n",
    "\n",
    "err = expected - y_test\n",
    "\n",
    "print(\"actual\", expected)\n",
    "print(\"expected\", y_test)\n",
    "print(\"error\", np.abs(err))\n",
    "print(\"mean abs error\", np.abs(err).mean())"
   ]
  },
  {
   "cell_type": "code",
   "execution_count": 85,
   "metadata": {},
   "outputs": [
    {
     "data": {
      "text/html": [
       "<div>\n",
       "<style>\n",
       "    .dataframe thead tr:only-child th {\n",
       "        text-align: right;\n",
       "    }\n",
       "\n",
       "    .dataframe thead th {\n",
       "        text-align: left;\n",
       "    }\n",
       "\n",
       "    .dataframe tbody tr th {\n",
       "        vertical-align: top;\n",
       "    }\n",
       "</style>\n",
       "<table border=\"1\" class=\"dataframe\">\n",
       "  <thead>\n",
       "    <tr style=\"text-align: right;\">\n",
       "      <th></th>\n",
       "      <th>pickup_latitude</th>\n",
       "      <th>pickup_longitude</th>\n",
       "      <th>dropoff_latitude</th>\n",
       "      <th>dropoff_longitude</th>\n",
       "      <th>manhattan_distance</th>\n",
       "      <th>pickup_hour</th>\n",
       "      <th>pickup_timestamp</th>\n",
       "    </tr>\n",
       "  </thead>\n",
       "  <tbody>\n",
       "    <tr>\n",
       "      <th>2</th>\n",
       "      <td>40.792670</td>\n",
       "      <td>-73.941020</td>\n",
       "      <td>40.706990</td>\n",
       "      <td>-74.001680</td>\n",
       "      <td>0.146340</td>\n",
       "      <td>13</td>\n",
       "      <td>1465752649.000000</td>\n",
       "    </tr>\n",
       "    <tr>\n",
       "      <th>4</th>\n",
       "      <td>40.708580</td>\n",
       "      <td>-74.009790</td>\n",
       "      <td>40.795130</td>\n",
       "      <td>-73.932000</td>\n",
       "      <td>0.164340</td>\n",
       "      <td>12</td>\n",
       "      <td>1463935089.000000</td>\n",
       "    </tr>\n",
       "  </tbody>\n",
       "</table>\n",
       "</div>"
      ],
      "text/plain": [
       "   pickup_latitude  pickup_longitude  dropoff_latitude  dropoff_longitude  \\\n",
       "2        40.792670        -73.941020         40.706990         -74.001680   \n",
       "4        40.708580        -74.009790         40.795130         -73.932000   \n",
       "\n",
       "   manhattan_distance  pickup_hour  pickup_timestamp  \n",
       "2            0.146340           13 1465752649.000000  \n",
       "4            0.164340           12 1463935089.000000  "
      ]
     },
     "execution_count": 85,
     "metadata": {},
     "output_type": "execute_result"
    }
   ],
   "source": [
    "x = x_train.loc[( (x_train['pickup_hour'] > 10) & (x_train['pickup_hour'] < 15) )]\n",
    "x"
   ]
  },
  {
   "cell_type": "code",
   "execution_count": 87,
   "metadata": {},
   "outputs": [
    {
     "data": {
      "text/html": [
       "<div>\n",
       "<style>\n",
       "    .dataframe thead tr:only-child th {\n",
       "        text-align: right;\n",
       "    }\n",
       "\n",
       "    .dataframe thead th {\n",
       "        text-align: left;\n",
       "    }\n",
       "\n",
       "    .dataframe tbody tr th {\n",
       "        vertical-align: top;\n",
       "    }\n",
       "</style>\n",
       "<table border=\"1\" class=\"dataframe\">\n",
       "  <thead>\n",
       "    <tr style=\"text-align: right;\">\n",
       "      <th></th>\n",
       "      <th>pickup_latitude</th>\n",
       "      <th>pickup_longitude</th>\n",
       "      <th>dropoff_latitude</th>\n",
       "      <th>dropoff_longitude</th>\n",
       "      <th>manhattan_distance</th>\n",
       "      <th>pickup_hour</th>\n",
       "      <th>pickup_timestamp</th>\n",
       "    </tr>\n",
       "  </thead>\n",
       "  <tbody>\n",
       "    <tr>\n",
       "      <th>0</th>\n",
       "      <td>40.803059</td>\n",
       "      <td>-73.933273</td>\n",
       "      <td>40.705158</td>\n",
       "      <td>-74.007179</td>\n",
       "      <td>0.171806</td>\n",
       "      <td>6</td>\n",
       "      <td>1458382415.000000</td>\n",
       "    </tr>\n",
       "    <tr>\n",
       "      <th>1</th>\n",
       "      <td>40.793080</td>\n",
       "      <td>-73.940240</td>\n",
       "      <td>40.702000</td>\n",
       "      <td>-74.011200</td>\n",
       "      <td>0.162040</td>\n",
       "      <td>7</td>\n",
       "      <td>1453378174.000000</td>\n",
       "    </tr>\n",
       "    <tr>\n",
       "      <th>2</th>\n",
       "      <td>40.792670</td>\n",
       "      <td>-73.941020</td>\n",
       "      <td>40.706990</td>\n",
       "      <td>-74.001680</td>\n",
       "      <td>0.146340</td>\n",
       "      <td>13</td>\n",
       "      <td>1465752649.000000</td>\n",
       "    </tr>\n",
       "    <tr>\n",
       "      <th>4</th>\n",
       "      <td>40.792920</td>\n",
       "      <td>-73.940740</td>\n",
       "      <td>40.705020</td>\n",
       "      <td>-74.007570</td>\n",
       "      <td>0.154730</td>\n",
       "      <td>6</td>\n",
       "      <td>1452683925.000000</td>\n",
       "    </tr>\n",
       "    <tr>\n",
       "      <th>5</th>\n",
       "      <td>40.797790</td>\n",
       "      <td>-73.931540</td>\n",
       "      <td>40.704280</td>\n",
       "      <td>-74.008670</td>\n",
       "      <td>0.170640</td>\n",
       "      <td>21</td>\n",
       "      <td>1462325272.000000</td>\n",
       "    </tr>\n",
       "    <tr>\n",
       "      <th>6</th>\n",
       "      <td>40.793710</td>\n",
       "      <td>-73.940240</td>\n",
       "      <td>40.707830</td>\n",
       "      <td>-74.011570</td>\n",
       "      <td>0.157210</td>\n",
       "      <td>7</td>\n",
       "      <td>1454761671.000000</td>\n",
       "    </tr>\n",
       "    <tr>\n",
       "      <th>7</th>\n",
       "      <td>40.803370</td>\n",
       "      <td>-73.933270</td>\n",
       "      <td>40.705340</td>\n",
       "      <td>-74.007180</td>\n",
       "      <td>0.171940</td>\n",
       "      <td>6</td>\n",
       "      <td>1455189786.000000</td>\n",
       "    </tr>\n",
       "    <tr>\n",
       "      <th>0</th>\n",
       "      <td>40.704784</td>\n",
       "      <td>-74.007454</td>\n",
       "      <td>40.812000</td>\n",
       "      <td>-73.935799</td>\n",
       "      <td>0.178871</td>\n",
       "      <td>21</td>\n",
       "      <td>1452567185.000000</td>\n",
       "    </tr>\n",
       "    <tr>\n",
       "      <th>1</th>\n",
       "      <td>40.702782</td>\n",
       "      <td>-74.011780</td>\n",
       "      <td>40.800541</td>\n",
       "      <td>-73.944450</td>\n",
       "      <td>0.165089</td>\n",
       "      <td>19</td>\n",
       "      <td>1465774571.000000</td>\n",
       "    </tr>\n",
       "    <tr>\n",
       "      <th>2</th>\n",
       "      <td>40.705124</td>\n",
       "      <td>-74.009354</td>\n",
       "      <td>40.800220</td>\n",
       "      <td>-73.938271</td>\n",
       "      <td>0.166180</td>\n",
       "      <td>21</td>\n",
       "      <td>1460769171.000000</td>\n",
       "    </tr>\n",
       "    <tr>\n",
       "      <th>4</th>\n",
       "      <td>40.708580</td>\n",
       "      <td>-74.009790</td>\n",
       "      <td>40.795130</td>\n",
       "      <td>-73.932000</td>\n",
       "      <td>0.164340</td>\n",
       "      <td>12</td>\n",
       "      <td>1463935089.000000</td>\n",
       "    </tr>\n",
       "    <tr>\n",
       "      <th>5</th>\n",
       "      <td>40.706360</td>\n",
       "      <td>-74.005920</td>\n",
       "      <td>40.812000</td>\n",
       "      <td>-73.935600</td>\n",
       "      <td>0.175960</td>\n",
       "      <td>20</td>\n",
       "      <td>1462841070.000000</td>\n",
       "    </tr>\n",
       "    <tr>\n",
       "      <th>6</th>\n",
       "      <td>40.705220</td>\n",
       "      <td>-74.007220</td>\n",
       "      <td>40.796680</td>\n",
       "      <td>-73.933040</td>\n",
       "      <td>0.165640</td>\n",
       "      <td>22</td>\n",
       "      <td>1458093983.000000</td>\n",
       "    </tr>\n",
       "    <tr>\n",
       "      <th>7</th>\n",
       "      <td>40.705300</td>\n",
       "      <td>-74.009380</td>\n",
       "      <td>40.795480</td>\n",
       "      <td>-73.935800</td>\n",
       "      <td>0.163760</td>\n",
       "      <td>0</td>\n",
       "      <td>1454735655.000000</td>\n",
       "    </tr>\n",
       "    <tr>\n",
       "      <th>8</th>\n",
       "      <td>40.706160</td>\n",
       "      <td>-74.006000</td>\n",
       "      <td>40.813980</td>\n",
       "      <td>-73.936710</td>\n",
       "      <td>0.177110</td>\n",
       "      <td>21</td>\n",
       "      <td>1458093445.000000</td>\n",
       "    </tr>\n",
       "    <tr>\n",
       "      <th>9</th>\n",
       "      <td>40.707580</td>\n",
       "      <td>-74.004390</td>\n",
       "      <td>40.796090</td>\n",
       "      <td>-73.937720</td>\n",
       "      <td>0.155180</td>\n",
       "      <td>21</td>\n",
       "      <td>1452824839.000000</td>\n",
       "    </tr>\n",
       "    <tr>\n",
       "      <th>10</th>\n",
       "      <td>40.711710</td>\n",
       "      <td>-74.010700</td>\n",
       "      <td>40.795280</td>\n",
       "      <td>-73.932930</td>\n",
       "      <td>0.161340</td>\n",
       "      <td>20</td>\n",
       "      <td>1454981059.000000</td>\n",
       "    </tr>\n",
       "    <tr>\n",
       "      <th>11</th>\n",
       "      <td>40.703350</td>\n",
       "      <td>-74.011810</td>\n",
       "      <td>40.797750</td>\n",
       "      <td>-73.931540</td>\n",
       "      <td>0.174670</td>\n",
       "      <td>21</td>\n",
       "      <td>1451961316.000000</td>\n",
       "    </tr>\n",
       "    <tr>\n",
       "      <th>12</th>\n",
       "      <td>40.704040</td>\n",
       "      <td>-74.007230</td>\n",
       "      <td>40.796020</td>\n",
       "      <td>-73.937640</td>\n",
       "      <td>0.161570</td>\n",
       "      <td>17</td>\n",
       "      <td>1464470754.000000</td>\n",
       "    </tr>\n",
       "    <tr>\n",
       "      <th>13</th>\n",
       "      <td>40.703090</td>\n",
       "      <td>-74.010920</td>\n",
       "      <td>40.799950</td>\n",
       "      <td>-73.944990</td>\n",
       "      <td>0.162790</td>\n",
       "      <td>4</td>\n",
       "      <td>1455613918.000000</td>\n",
       "    </tr>\n",
       "    <tr>\n",
       "      <th>14</th>\n",
       "      <td>40.704570</td>\n",
       "      <td>-74.006230</td>\n",
       "      <td>40.805180</td>\n",
       "      <td>-73.941120</td>\n",
       "      <td>0.165720</td>\n",
       "      <td>20</td>\n",
       "      <td>1464655518.000000</td>\n",
       "    </tr>\n",
       "    <tr>\n",
       "      <th>15</th>\n",
       "      <td>40.707350</td>\n",
       "      <td>-74.009190</td>\n",
       "      <td>40.794240</td>\n",
       "      <td>-73.940930</td>\n",
       "      <td>0.155150</td>\n",
       "      <td>19</td>\n",
       "      <td>1462491722.000000</td>\n",
       "    </tr>\n",
       "    <tr>\n",
       "      <th>16</th>\n",
       "      <td>40.704010</td>\n",
       "      <td>-74.007920</td>\n",
       "      <td>40.795960</td>\n",
       "      <td>-73.932390</td>\n",
       "      <td>0.167480</td>\n",
       "      <td>19</td>\n",
       "      <td>1451694023.000000</td>\n",
       "    </tr>\n",
       "    <tr>\n",
       "      <th>17</th>\n",
       "      <td>40.703330</td>\n",
       "      <td>-74.009520</td>\n",
       "      <td>40.794780</td>\n",
       "      <td>-73.933340</td>\n",
       "      <td>0.167630</td>\n",
       "      <td>6</td>\n",
       "      <td>1461579548.000000</td>\n",
       "    </tr>\n",
       "    <tr>\n",
       "      <th>18</th>\n",
       "      <td>40.709970</td>\n",
       "      <td>-74.007110</td>\n",
       "      <td>40.797920</td>\n",
       "      <td>-73.931940</td>\n",
       "      <td>0.163120</td>\n",
       "      <td>22</td>\n",
       "      <td>1461636719.000000</td>\n",
       "    </tr>\n",
       "    <tr>\n",
       "      <th>19</th>\n",
       "      <td>40.707740</td>\n",
       "      <td>-74.004440</td>\n",
       "      <td>40.792950</td>\n",
       "      <td>-73.939990</td>\n",
       "      <td>0.149660</td>\n",
       "      <td>23</td>\n",
       "      <td>1466047336.000000</td>\n",
       "    </tr>\n",
       "    <tr>\n",
       "      <th>20</th>\n",
       "      <td>40.710750</td>\n",
       "      <td>-74.008620</td>\n",
       "      <td>40.798630</td>\n",
       "      <td>-73.941420</td>\n",
       "      <td>0.155080</td>\n",
       "      <td>0</td>\n",
       "      <td>1462680610.000000</td>\n",
       "    </tr>\n",
       "    <tr>\n",
       "      <th>21</th>\n",
       "      <td>40.708330</td>\n",
       "      <td>-74.016720</td>\n",
       "      <td>40.799230</td>\n",
       "      <td>-73.929330</td>\n",
       "      <td>0.178290</td>\n",
       "      <td>8</td>\n",
       "      <td>1452172626.000000</td>\n",
       "    </tr>\n",
       "    <tr>\n",
       "      <th>22</th>\n",
       "      <td>40.705430</td>\n",
       "      <td>-74.007530</td>\n",
       "      <td>40.812320</td>\n",
       "      <td>-73.936510</td>\n",
       "      <td>0.177910</td>\n",
       "      <td>0</td>\n",
       "      <td>1464150810.000000</td>\n",
       "    </tr>\n",
       "    <tr>\n",
       "      <th>23</th>\n",
       "      <td>40.704300</td>\n",
       "      <td>-74.012610</td>\n",
       "      <td>40.797390</td>\n",
       "      <td>-73.938790</td>\n",
       "      <td>0.166910</td>\n",
       "      <td>1</td>\n",
       "      <td>1456381881.000000</td>\n",
       "    </tr>\n",
       "    <tr>\n",
       "      <th>24</th>\n",
       "      <td>40.702740</td>\n",
       "      <td>-74.011440</td>\n",
       "      <td>40.800130</td>\n",
       "      <td>-73.944700</td>\n",
       "      <td>0.164130</td>\n",
       "      <td>1</td>\n",
       "      <td>1454393638.000000</td>\n",
       "    </tr>\n",
       "    <tr>\n",
       "      <th>25</th>\n",
       "      <td>40.710660</td>\n",
       "      <td>-74.005450</td>\n",
       "      <td>40.797110</td>\n",
       "      <td>-73.934490</td>\n",
       "      <td>0.157410</td>\n",
       "      <td>1</td>\n",
       "      <td>1463289764.000000</td>\n",
       "    </tr>\n",
       "    <tr>\n",
       "      <th>26</th>\n",
       "      <td>40.711070</td>\n",
       "      <td>-74.008710</td>\n",
       "      <td>40.795810</td>\n",
       "      <td>-73.935630</td>\n",
       "      <td>0.157820</td>\n",
       "      <td>22</td>\n",
       "      <td>1462845686.000000</td>\n",
       "    </tr>\n",
       "    <tr>\n",
       "      <th>27</th>\n",
       "      <td>40.707590</td>\n",
       "      <td>-74.011730</td>\n",
       "      <td>40.805300</td>\n",
       "      <td>-73.937450</td>\n",
       "      <td>0.171990</td>\n",
       "      <td>1</td>\n",
       "      <td>1452927156.000000</td>\n",
       "    </tr>\n",
       "  </tbody>\n",
       "</table>\n",
       "</div>"
      ],
      "text/plain": [
       "    pickup_latitude  pickup_longitude  dropoff_latitude  dropoff_longitude  \\\n",
       "0         40.803059        -73.933273         40.705158         -74.007179   \n",
       "1         40.793080        -73.940240         40.702000         -74.011200   \n",
       "2         40.792670        -73.941020         40.706990         -74.001680   \n",
       "4         40.792920        -73.940740         40.705020         -74.007570   \n",
       "5         40.797790        -73.931540         40.704280         -74.008670   \n",
       "6         40.793710        -73.940240         40.707830         -74.011570   \n",
       "7         40.803370        -73.933270         40.705340         -74.007180   \n",
       "0         40.704784        -74.007454         40.812000         -73.935799   \n",
       "1         40.702782        -74.011780         40.800541         -73.944450   \n",
       "2         40.705124        -74.009354         40.800220         -73.938271   \n",
       "4         40.708580        -74.009790         40.795130         -73.932000   \n",
       "5         40.706360        -74.005920         40.812000         -73.935600   \n",
       "6         40.705220        -74.007220         40.796680         -73.933040   \n",
       "7         40.705300        -74.009380         40.795480         -73.935800   \n",
       "8         40.706160        -74.006000         40.813980         -73.936710   \n",
       "9         40.707580        -74.004390         40.796090         -73.937720   \n",
       "10        40.711710        -74.010700         40.795280         -73.932930   \n",
       "11        40.703350        -74.011810         40.797750         -73.931540   \n",
       "12        40.704040        -74.007230         40.796020         -73.937640   \n",
       "13        40.703090        -74.010920         40.799950         -73.944990   \n",
       "14        40.704570        -74.006230         40.805180         -73.941120   \n",
       "15        40.707350        -74.009190         40.794240         -73.940930   \n",
       "16        40.704010        -74.007920         40.795960         -73.932390   \n",
       "17        40.703330        -74.009520         40.794780         -73.933340   \n",
       "18        40.709970        -74.007110         40.797920         -73.931940   \n",
       "19        40.707740        -74.004440         40.792950         -73.939990   \n",
       "20        40.710750        -74.008620         40.798630         -73.941420   \n",
       "21        40.708330        -74.016720         40.799230         -73.929330   \n",
       "22        40.705430        -74.007530         40.812320         -73.936510   \n",
       "23        40.704300        -74.012610         40.797390         -73.938790   \n",
       "24        40.702740        -74.011440         40.800130         -73.944700   \n",
       "25        40.710660        -74.005450         40.797110         -73.934490   \n",
       "26        40.711070        -74.008710         40.795810         -73.935630   \n",
       "27        40.707590        -74.011730         40.805300         -73.937450   \n",
       "\n",
       "    manhattan_distance  pickup_hour  pickup_timestamp  \n",
       "0             0.171806            6 1458382415.000000  \n",
       "1             0.162040            7 1453378174.000000  \n",
       "2             0.146340           13 1465752649.000000  \n",
       "4             0.154730            6 1452683925.000000  \n",
       "5             0.170640           21 1462325272.000000  \n",
       "6             0.157210            7 1454761671.000000  \n",
       "7             0.171940            6 1455189786.000000  \n",
       "0             0.178871           21 1452567185.000000  \n",
       "1             0.165089           19 1465774571.000000  \n",
       "2             0.166180           21 1460769171.000000  \n",
       "4             0.164340           12 1463935089.000000  \n",
       "5             0.175960           20 1462841070.000000  \n",
       "6             0.165640           22 1458093983.000000  \n",
       "7             0.163760            0 1454735655.000000  \n",
       "8             0.177110           21 1458093445.000000  \n",
       "9             0.155180           21 1452824839.000000  \n",
       "10            0.161340           20 1454981059.000000  \n",
       "11            0.174670           21 1451961316.000000  \n",
       "12            0.161570           17 1464470754.000000  \n",
       "13            0.162790            4 1455613918.000000  \n",
       "14            0.165720           20 1464655518.000000  \n",
       "15            0.155150           19 1462491722.000000  \n",
       "16            0.167480           19 1451694023.000000  \n",
       "17            0.167630            6 1461579548.000000  \n",
       "18            0.163120           22 1461636719.000000  \n",
       "19            0.149660           23 1466047336.000000  \n",
       "20            0.155080            0 1462680610.000000  \n",
       "21            0.178290            8 1452172626.000000  \n",
       "22            0.177910            0 1464150810.000000  \n",
       "23            0.166910            1 1456381881.000000  \n",
       "24            0.164130            1 1454393638.000000  \n",
       "25            0.157410            1 1463289764.000000  \n",
       "26            0.157820           22 1462845686.000000  \n",
       "27            0.171990            1 1452927156.000000  "
      ]
     },
     "execution_count": 87,
     "metadata": {},
     "output_type": "execute_result"
    }
   ],
   "source": [
    "x_train"
   ]
  }
 ],
 "metadata": {
  "anaconda-cloud": {},
  "kernelspec": {
   "display_name": "pp",
   "language": "python",
   "name": "pp"
  },
  "language_info": {
   "codemirror_mode": {
    "name": "ipython",
    "version": 3
   },
   "file_extension": ".py",
   "mimetype": "text/x-python",
   "name": "python",
   "nbconvert_exporter": "python",
   "pygments_lexer": "ipython3",
   "version": "3.6.2"
  }
 },
 "nbformat": 4,
 "nbformat_minor": 1
}
