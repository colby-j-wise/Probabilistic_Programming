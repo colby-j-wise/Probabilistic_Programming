{
 "cells": [
  {
   "cell_type": "code",
   "execution_count": 1,
   "metadata": {
    "collapsed": true
   },
   "outputs": [],
   "source": [
    "%matplotlib inline\n",
    "import edward as ed\n",
    "from edward.models import Normal\n",
    "import pandas as pd\n",
    "import tensorflow as tf\n",
    "import seaborn as sns\n",
    "import matplotlib.pyplot as plt\n",
    "import numpy as np\n",
    "\n",
    "# our functions\n",
    "import setup\n",
    "import data\n",
    "import visualizations\n",
    "import basis_functions\n",
    "pd.set_option('float_format', '{:f}'.format)\n",
    "setup.set_random_seeds(42)\n",
    "plt.style.use(\"seaborn-talk\")\n",
    "sns.set_context(\"talk\")"
   ]
  },
  {
   "cell_type": "code",
   "execution_count": 2,
   "metadata": {
    "collapsed": true
   },
   "outputs": [],
   "source": [
    "manhattan = data.get_borough_data(\"data/preprocessed.csv\", \"Manhattan\")\n",
    "ues_to_msh = data.get_neighborhood_to_neighborhood(\"Morningside Heights\", \"Upper East Side-Carnegie Hill\", manhattan)"
   ]
  },
  {
   "cell_type": "markdown",
   "metadata": {},
   "source": [
    "# Model\n",
    "\n",
    "Moving on in the direction of Gaussian Processes, we would like to begin exploring basis functions. We will begin with a simple polynomial basis function, which is essentially a special case of multiple linear regression. Now we have the following mode:\n",
    "\n",
    "$$f(\\phi(x)) = \\phi(x)^Tw$$\n",
    "$$y = f(\\phi(x)) + \\epsilon$$\n",
    "$$ \\epsilon \\sim N(0, 1)$$\n",
    "\n",
    "Where $\\phi$ is a basis function. \n",
    "\n",
    "We explored several polynomial degrees, but settled on a degree 4 polynomial."
   ]
  },
  {
   "cell_type": "code",
   "execution_count": 3,
   "metadata": {
    "collapsed": true
   },
   "outputs": [],
   "source": [
    "indicator_cols = [\"pickup_latitude\", \"pickup_longitude\", \"dropoff_latitude\", \"dropoff_longitude\", \"manhattan_distance\", \"pickup_hour\", \"pickup_timestamp\"]\n",
    "y_cols = [\"trip_duration\"]\n",
    "\n",
    "x_train_raw, y_train_raw, x_test_raw, y_test_raw = data.train_test_split(ues_to_msh, 0.2, indicator_cols, y_cols)\n",
    "\n",
    "x_train_standardized = data.standardize_cols(x_train_raw)\n",
    "x_test_standardized = data.standardize_cols(x_test_raw)\n",
    "\n",
    "poly_degree = 4\n",
    "\n",
    "x_train = basis_functions.polynomial(x_train_standardized, degree=poly_degree)\n",
    "x_test = basis_functions.polynomial(x_test_standardized, degree=poly_degree)\n",
    "\n",
    "vis = x_train_raw.copy(deep=True)\n",
    "vis[\"trip_duration\"] = y_train_raw.copy(deep=True)"
   ]
  },
  {
   "cell_type": "code",
   "execution_count": 4,
   "metadata": {
    "collapsed": true
   },
   "outputs": [],
   "source": [
    "N, D = x_train.shape\n",
    "X = tf.placeholder(tf.float32, [N, D])\n",
    "w = ed.models.Normal(loc=tf.zeros(D), scale=tf.ones(D))\n",
    "b = ed.models.Normal(loc=[0.0], scale=1.0)\n",
    "#alpha = ed.models.Normal(loc=[0.0], scale=1.0)\n",
    "Y = ed.models.Normal(loc=ed.dot(X, w) + b, scale=[1.0])"
   ]
  },
  {
   "cell_type": "markdown",
   "metadata": {},
   "source": [
    "# Inference\n",
    "\n",
    "Again, we will use KLqp inference"
   ]
  },
  {
   "cell_type": "code",
   "execution_count": 5,
   "metadata": {},
   "outputs": [
    {
     "name": "stdout",
     "output_type": "stream",
     "text": [
      "1000/1000 [100%] ██████████████████████████████ Elapsed: 1s | Loss: 5732.679\n"
     ]
    }
   ],
   "source": [
    "# qalpha = ed.models.TransformedDistribution(\n",
    "#     distribution=ed.models.NormalWithSoftplusScale(tf.Variable(tf.zeros([1])),\n",
    "#                                                    tf.Variable(tf.zeros([1]))),\n",
    "#     bijector=tf.contrib.distributions.bijectors.Exp())\n",
    "\n",
    "qw = ed.models.NormalWithSoftplusScale(loc=tf.Variable(tf.random_normal([D])),\n",
    "                                       scale=tf.Variable(tf.random_normal([D])))\n",
    "\n",
    "qb = ed.models.NormalWithSoftplusScale(loc=tf.Variable(tf.random_normal([1])),\n",
    "                                       scale=tf.Variable(tf.random_normal([1])))\n",
    "\n",
    "inference = ed.KLqp({w: qw, b: qb},#, alpha: qalpha},\n",
    "                    data={X: x_train.as_matrix(),\n",
    "                          Y: np.reshape(y_train_raw.as_matrix(), (y_train_raw.shape[0]))})\n",
    "inference.run(n_iter=1000)"
   ]
  },
  {
   "cell_type": "markdown",
   "metadata": {},
   "source": [
    "# Critique"
   ]
  },
  {
   "cell_type": "markdown",
   "metadata": {},
   "source": [
    "The graph below is a prediction of our data solely as a function of pickup hour, meaning that all other points are held to their mean values as expected by the linear model, i.e. 0."
   ]
  },
  {
   "cell_type": "code",
   "execution_count": 6,
   "metadata": {},
   "outputs": [
    {
     "ename": "NameError",
     "evalue": "name 'qalpha' is not defined",
     "output_type": "error",
     "traceback": [
      "\u001b[0;31m---------------------------------------------------------------------------\u001b[0m",
      "\u001b[0;31mNameError\u001b[0m                                 Traceback (most recent call last)",
      "\u001b[0;32m<ipython-input-6-ec563dd658b9>\u001b[0m in \u001b[0;36m<module>\u001b[0;34m()\u001b[0m\n\u001b[0;32m----> 1\u001b[0;31m \u001b[0mvisualizations\u001b[0m\u001b[0;34m.\u001b[0m\u001b[0mvis_glm_poly\u001b[0m\u001b[0;34m(\u001b[0m\u001b[0;36m1000\u001b[0m\u001b[0;34m,\u001b[0m \u001b[0mpoly_degree\u001b[0m\u001b[0;34m,\u001b[0m \u001b[0mindicator_cols\u001b[0m\u001b[0;34m,\u001b[0m \u001b[0mvis\u001b[0m\u001b[0;34m,\u001b[0m \u001b[0mqw\u001b[0m\u001b[0;34m,\u001b[0m \u001b[0mqb\u001b[0m\u001b[0;34m,\u001b[0m \u001b[0mqalpha\u001b[0m\u001b[0;34m)\u001b[0m\u001b[0;34m\u001b[0m\u001b[0m\n\u001b[0m",
      "\u001b[0;31mNameError\u001b[0m: name 'qalpha' is not defined"
     ]
    }
   ],
   "source": [
    "visualizations.vis_glm_poly(1000, poly_degree, indicator_cols, vis, qw, qb, qalpha)"
   ]
  },
  {
   "cell_type": "markdown",
   "metadata": {},
   "source": [
    "Looking at the simple point estimate to see if we've had any improvement, it's clear that we have. Specifically, our error has shrunk by about 3 minutes. Now coming within 5 minutes of a trip's true duration is a much more useful estimate for someone not familiar with New York City."
   ]
  },
  {
   "cell_type": "code",
   "execution_count": 14,
   "metadata": {},
   "outputs": [
    {
     "name": "stdout",
     "output_type": "stream",
     "text": [
      "3.33738\n"
     ]
    }
   ],
   "source": [
    "N, D = x_test.shape\n",
    "X_eval = tf.placeholder(tf.float32, [N, D])\n",
    "y_posterior_predictive = ed.models.Normal(loc=ed.dot(X_eval, qw) + qb, scale=[1.0])\n",
    "print(ed.evaluate(\"mean_absolute_error\",\n",
    "            data={X_eval: x_test.as_matrix(),\n",
    "                  y_posterior_predictive: np.reshape(y_test_raw.as_matrix(), (y_test_raw.shape[0]))},\n",
    "             output_key=y_posterior_predictive))"
   ]
  },
  {
   "cell_type": "markdown",
   "metadata": {},
   "source": [
    "Now, in order to get a better understanding of what specifically is not being modeled correctly, we will use the posterior predictive checks. It's clear from our graphs that our model is not properly capturing the mean of our data. Within a GLM the main form of adjustment is the basis function and we do not know which basis function would be best for our dataset. From here we need to return to our model again."
   ]
  },
  {
   "cell_type": "code",
   "execution_count": 14,
   "metadata": {},
   "outputs": [
    {
     "data": {
      "image/png": "[encoded data removed]",
      "text/plain": [
       "<matplotlib.figure.Figure at 0x7fa388cba160>"
      ]
     },
     "metadata": {},
     "output_type": "display_data"
    },
    {
     "data": {
      "image/png": "[encoded data removed]",
      "text/plain": [
       "<matplotlib.figure.Figure at 0x7fa388bf5fd0>"
      ]
     },
     "metadata": {},
     "output_type": "display_data"
    },
    {
     "data": {
      "image/png": "[encoded data removed]",
      "text/plain": [
       "<matplotlib.figure.Figure at 0x7fa388bfda90>"
      ]
     },
     "metadata": {},
     "output_type": "display_data"
    }
   ],
   "source": [
    "def T_max(data_dict, latent_vars_dict):\n",
    "    return tf.reduce_max(data_dict[y_posterior_predictive])\n",
    "def T_min(data_dict, latent_vars_dict):\n",
    "    return tf.reduce_min(data_dict[y_posterior_predictive])\n",
    "def T_mean(data_dict, latent_vars_dict):\n",
    "    return tf.reduce_mean(data_dict[y_posterior_predictive])\n",
    "ppc_stats_max = ed.ppc(T_max,\n",
    "                             data={\n",
    "                                 X_eval: x_test.as_matrix(),\n",
    "                                 y_posterior_predictive: np.reshape(y_test_raw.as_matrix(), (y_test_raw.shape[0]))\n",
    "                             },\n",
    "                       latent_vars={w: qw, b: qb, alpha: qalpha }\n",
    "                      )\n",
    "ppc_stats_min = ed.ppc(T_min,\n",
    "                             data={\n",
    "                                 X_eval: x_test.as_matrix(),\n",
    "                                 y_posterior_predictive: np.reshape(y_test_raw.as_matrix(), (y_test_raw.shape[0]))\n",
    "                             },\n",
    "                       latent_vars={w: qw, b: qb, alpha: qalpha }\n",
    "                      )\n",
    "ppc_stats_mean = ed.ppc(T_mean,\n",
    "                             data={\n",
    "                                 X_eval: x_test.as_matrix(),\n",
    "                                 y_posterior_predictive: np.reshape(y_test_raw.as_matrix(), (y_test_raw.shape[0]))\n",
    "                             },\n",
    "                       latent_vars={w: qw, b: qb, alpha: qalpha }\n",
    "                      )\n",
    "\n",
    "ed.ppc_stat_hist_plot(ppc_stats_max[1][1], ppc_stats_max[0], stat_name=r'$T \\equiv max$',\n",
    "    bins=10)\n",
    "plt.show()\n",
    "ed.ppc_stat_hist_plot(ppc_stats_min[1][1], ppc_stats_min[0], stat_name=r'$T \\equiv min$',\n",
    "    bins=10)\n",
    "plt.show()\n",
    "ed.ppc_stat_hist_plot(ppc_stats_mean[1][1], ppc_stats_mean[0], stat_name=r'$T \\equiv mean$',\n",
    "    bins=10)\n",
    "plt.show()"
   ]
  }
 ],
 "metadata": {
  "anaconda-cloud": {},
  "kernelspec": {
   "display_name": "Python 3",
   "language": "python",
   "name": "python3"
  },
  "language_info": {
   "codemirror_mode": {
    "name": "ipython",
    "version": 3
   },
   "file_extension": ".py",
   "mimetype": "text/x-python",
   "name": "python",
   "nbconvert_exporter": "python",
   "pygments_lexer": "ipython3",
   "version": "3.6.3"
  }
 },
 "nbformat": 4,
 "nbformat_minor": 1
}
